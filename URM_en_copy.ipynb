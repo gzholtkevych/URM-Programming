{
 "cells": [
  {
   "cell_type": "markdown",
   "metadata": {
    "colab_type": "text",
    "id": "view-in-github"
   },
   "source": [
    "<a href=\"https://colab.research.google.com/github/gzholtkevych/URM-Programming/blob/main/URM_en.ipynb\" target=\"_parent\"><img src=\"https://colab.research.google.com/assets/colab-badge.svg\" alt=\"Open In Colab\"/></a>"
   ]
  },
  {
   "cell_type": "markdown",
   "metadata": {
    "id": "9znhUfwKqTbC"
   },
   "source": [
    "<H1><b>Unlimited Register Machine</b></H1>"
   ]
  },
  {
   "cell_type": "markdown",
   "metadata": {
    "id": "j80Dq1uYTM5X"
   },
   "source": [
    "**U**nlimited **R**egister **M**achine (URM) is a realization of the approach to programming based on the automaton concept.\n",
    "URM is an easier-to-understand alternative to a Turing machine.\n",
    "\n",
    "It has (to a certain extent) the same capabilities as the Turing machine, to which URM is logically equivalent.\n",
    "The URM was presented in an article published in 1963\n",
    "\n",
    ">[John C. Shepherdson and H.E. Sturgis: *Computability of Recursive Functions*. J. ACM Vol. 10, no. 2, pp. 217–255.](https://dl.acm.org/doi/pdf/10.1145/321160.321170)"
   ]
  },
  {
   "cell_type": "markdown",
   "metadata": {
    "id": "v09Os5dUx9HG"
   },
   "source": [
    "# Preparing a notebook to use"
   ]
  },
  {
   "cell_type": "code",
   "execution_count": null,
   "metadata": {
    "colab": {
     "base_uri": "https://localhost:8080/"
    },
    "id": "0uybnLWmIUXM",
    "outputId": "7b5ff301-89e8-4ec3-fbaa-adaf18ff3fda"
   },
   "outputs": [
    {
     "name": "stdout",
     "output_type": "stream",
     "text": [
      "Mounted at /content/drive\n"
     ]
    }
   ],
   "source": [
    "from google.colab import drive\n",
    "drive.mount('/content/drive')\n",
    "\n",
    "import sys\n",
    "sys.path.append('/content/drive/MyDrive/ColabNotebooks/Computability')"
   ]
  },
  {
   "cell_type": "code",
   "execution_count": 1,
   "metadata": {
    "colab": {
     "base_uri": "https://localhost:8080/",
     "height": 360
    },
    "id": "UXJMbTOywbm7",
    "outputId": "5a51ecc5-d971-4914-abd6-178a2466492c"
   },
   "outputs": [],
   "source": [
    "from typing import Dict, Any, Optional, Tuple, List\n",
    "from typing_extensions import Self\n",
    "from functools import reduce\n",
    "from compy.nat import nat"
   ]
  },
  {
   "cell_type": "markdown",
   "metadata": {
    "id": "HzUdUTt7HgUK"
   },
   "source": [
    "# Memory of UMR"
   ]
  },
  {
   "cell_type": "markdown",
   "metadata": {
    "id": "yYfVbwVlUtTA"
   },
   "source": [
    "## Registers"
   ]
  },
  {
   "cell_type": "markdown",
   "metadata": {
    "id": "5feB_pFWU738"
   },
   "source": [
    "URM has an enumerated set of ***registers***, each of which can store a natural number $n\\in\\mathbb{N}$, where $\\mathbb{N}=\\{0,1,2,\\dotsc\\} $.\n",
    "\n",
    "Each URM program can use only a finite set of registers.\n",
    "\n",
    "Registers are usually denoted by a capital letter $R$ with an index: $R_{0},R_{1},R_{2},\\dotsc$.\n",
    "The index (which is a natural number) is called the ***register index***.\n",
    "The number holding register $R_{n}$ is usually denoted by $r_{n}$.\n",
    "\n",
    "Registers are unlimited in the following two senses:\n",
    "\n",
    "- even though a URM program can use only a finite set of registers, there is no upper limit for the number of registers used by the programs;\n",
    "- there is no upper limit for numbers stored by registers."
   ]
  },
  {
   "cell_type": "markdown",
   "metadata": {
    "id": "4ehurE3IWVKK"
   },
   "source": [
    "## Memory states"
   ]
  },
  {
   "cell_type": "markdown",
   "metadata": {
    "id": "hlqyf9r6WamQ"
   },
   "source": [
    "The state of the memory is determined by the values ​​stored in the registers."
   ]
  },
  {
   "cell_type": "markdown",
   "metadata": {
    "id": "JKN8B0vKW0OB"
   },
   "source": [
    "## Software implementation"
   ]
  },
  {
   "cell_type": "markdown",
   "metadata": {
    "id": "IGQ1ohl7kIzK"
   },
   "source": [
    "The memory of URM is implemented as class `memory` inherited from the built-in type `list`.\n",
    "\n",
    "The property `size` equals the length of the corresponding list.\n",
    "\n",
    "The methods `read()` and `write()` provide correct reading from and writing to the memory."
   ]
  },
  {
   "cell_type": "code",
   "execution_count": 2,
   "metadata": {
    "id": "SivyyEI1H1El"
   },
   "outputs": [],
   "source": [
    "class memory(list):\n",
    "\n",
    "    def __new__(cls) -> Self:\n",
    "        return super().__new__(cls, [])\n",
    "\n",
    "    @property\n",
    "    def size(self) -> int:\n",
    "        return len(self)\n",
    "\n",
    "    def read(self, addr: int) -> nat:\n",
    "        try:\n",
    "            n = nat(addr)\n",
    "        except ValueError:\n",
    "            raise ValueError(\"memory.read() error! Bad argument\")\n",
    "        try:\n",
    "            return self[n]\n",
    "        except IndexError:\n",
    "            return nat(0)\n",
    "\n",
    "    def write(self, addr: int, value: Any) -> None:\n",
    "        try:\n",
    "            n, v = nat(addr), nat(value)\n",
    "        except ValueError:\n",
    "            raise ValueError(\"memory.write() error! Bad argument(s)\")\n",
    "        diff = self.size - n\n",
    "        if diff <= 0:  # access to a register that is not yet allocated\n",
    "            self += (1 - diff) * [nat(0)]  # allocate additional registers\n",
    "        self[n] = v\n"
   ]
  },
  {
   "cell_type": "markdown",
   "metadata": {
    "id": "K2ea07zgWg6Q"
   },
   "source": [
    "## URM-programs"
   ]
  },
  {
   "cell_type": "markdown",
   "metadata": {
    "id": "lWOiwFXtWpDZ"
   },
   "source": [
    "***Execution states***, that is, the value of the registers and the instruction counter, is changed by programs.\n",
    "\n",
    "A ***URM program*** is a finite list of ***instructions***.\n",
    "\n",
    "Program instructions are written in a certain order and numbered with positive natural numbers $1,2,3,\\dotsc$.<br/>\n",
    "**Please note!** Instruction number 0 does not exist in the program.\n",
    "\n",
    "The instruction number for historical reasons is called the ***program line number***."
   ]
  },
  {
   "cell_type": "markdown",
   "metadata": {
    "id": "32IJjIbpWBGs"
   },
   "source": [
    "## Instruction counter"
   ]
  },
  {
   "cell_type": "markdown",
   "metadata": {
    "id": "eBeuV9d4WL7h"
   },
   "source": [
    "The ***instruction counter*** is an additional register that stores a natural number.\n",
    "This register is denoted by $IC$ and its contents are $ic$."
   ]
  },
  {
   "cell_type": "markdown",
   "metadata": {
    "id": "8qzxofV3XxDd"
   },
   "source": [
    "<table width=\"800pt\">\n",
    "<tr><th width=\"100pt\">Name</th>\n",
    "<th width=100pt>Mnemonic code</th>\n",
    "<th width=\"200pt\">Effect</th>\n",
    "<th>Description</th></tr>\n",
    "<tr><td>Zero</td>\n",
    "<td align=\"center\">$\\mathtt{Z}(n)$</td>\n",
    "<td align=\"center\">$R_n\\gets 0$<br/>$IC\\gets ic+1$</td>\n",
    "<td>Replace the value in $R_{n}$ with $0$ and jump to the nextline of the<br/>program</td></tr>\n",
    "<tr><td>Successor</td>\n",
    "<td align=\"center\">$\\mathtt{S}(n)$</td>\n",
    "<td align=\"center\">$R_n\\gets r_n+1$<br/>$IC\\gets ic+1$</td>\n",
    "<td>Increase the value of register $R_{n}$ by $1$ and jump to the next line of<br/>the program</td></tr>\n",
    "<tr><td>Copy</td>\n",
    "<td align=\"center\">$\\mathtt{C}(m,n)$</td>\n",
    "<td align=\"center\">$R_n\\gets r_m$<br/>$IC\\gets ic+1$</td>\n",
    "<td>Replace the value in $R_{n}$ with the content of $R_{m}$ (keeping the<br/>content of $R_{m}$) and jump to the next line of the program</td></tr>\n",
    "<tr><td>Jump</td>\n",
    "<td align=\"center\">$\\mathtt{J}(m,n,k)$</td>\n",
    "<td align=\"center\">$IC\\gets k\\ \\mathtt{if}\\ r_m=r_n\\ \\mathtt{else}\\ ic+1$</td>\n",
    "<td>If the values ​​stored in $R_{m}$ and $R_{n}$ match, then jump to the<br/>program line with number $k$, otherwise to the next program line</td></tr>\n",
    "</table>"
   ]
  },
  {
   "cell_type": "markdown",
   "metadata": {
    "id": "nmmw7_IM66tM"
   },
   "source": [
    "## Software implementation"
   ]
  },
  {
   "cell_type": "markdown",
   "metadata": {
    "id": "6ccI_PKAazXL"
   },
   "source": [
    "The `ins` class provides the data type implementation inhabited by the URM instructions.\n",
    "\n",
    "- The instruction `Z(n)` is represented by a tuple `(0, n)`.\n",
    "- The instruction `S(n)` is represented by a tuple `(1, n)`.\n",
    "- The instruction `C(m, n)` is represented by the tuple `(2, m, n)`.\n",
    "- The instruction `J(m, n, k)` is represented by the tuple `(3, m, n, k)`.\n",
    "\n",
    "To correctly represent instructions by strings, the `__str__()` method is overloaded for this class.\n",
    "\n",
    "The class methods `Z()`, `S()`, `C()` and `J()` provide convenient instruction creation."
   ]
  },
  {
   "cell_type": "code",
   "execution_count": 3,
   "metadata": {
    "id": "b6jA7G8rqOg9"
   },
   "outputs": [],
   "source": [
    "class ins(tuple):\n",
    "\n",
    "    def __new__(cls, *args: Tuple[int]) -> Self:\n",
    "        if not (2 <= len(args) <= 4):\n",
    "            raise ValueError(\"ins() error! Invalid number of arguments\")\n",
    "        if not all(type(arg) == int for arg in args):\n",
    "            raise ValueError(\"ins() error! Invalid type of argument(s)\")\n",
    "        if args[0] > 3:\n",
    "            raise ValueError(\"ins() error! Invalid instruction code\")\n",
    "        if not all(arg >= 0 for arg in args[1 :]):\n",
    "            raise ValueError(\"ins() error! Invalid value of operand(s)\")\n",
    "        return super().__new__(cls, args)\n",
    "\n",
    "    def __str__(self) -> str:\n",
    "        if self[0] == 0:\n",
    "            return f\"Z({self[1]})\"\n",
    "        if self[0] == 1:\n",
    "            return f\"S({self[1]})\"\n",
    "        if self[0] == 2:\n",
    "            return f\"C{self[1 :]}\"\n",
    "        # self[0] == 3\n",
    "        return f\"J{self[1 :]}\"\n",
    "\n",
    "    @classmethod\n",
    "    def Z(cls, n: Any) -> Self:\n",
    "        try:\n",
    "            return ins(0, n)\n",
    "        except ValueError:\n",
    "            raise ValueError(\"Z() error! Bad operand\")\n",
    "\n",
    "    @classmethod\n",
    "    def S(cls, n: Any) -> Self:\n",
    "        try:\n",
    "            return ins(1, n)\n",
    "        except ValueError:\n",
    "            raise ValueError(\"S() error! Bad operand\")\n",
    "\n",
    "    @classmethod\n",
    "    def C(cls, m: Any, n: Any) -> Self:\n",
    "        try:\n",
    "            return ins(2, m, n)\n",
    "        except ValueError:\n",
    "            raise ValueError(\"C() error! Bad operand(s)\")\n",
    "\n",
    "    @classmethod\n",
    "    def J(cls, m: Any, n: Any, k: Any) -> Self:\n",
    "        try:\n",
    "            return ins(3, m, n, k)\n",
    "        except ValueError:\n",
    "            raise ValueError(\"J() error! Bad operand(s)\")\n"
   ]
  },
  {
   "cell_type": "markdown",
   "metadata": {
    "id": "789mprGe7NE-"
   },
   "source": [
    "## Instructions execution"
   ]
  },
  {
   "cell_type": "markdown",
   "metadata": {
    "id": "MiHtXnCkhpPQ"
   },
   "source": [
    "The execution of `instruction: ins` if the memory state is `memory_state` implements by calling `apply(instruction, to=memory_state)`, which provides returning the pair `(how_to_change_IC, new_memory_state)`.\n",
    "\n",
    "The value of `how_to_change_IC` is equal to\n",
    "\n",
    "- `None`, if after the instruction `instruction` it is necessary to execute the instruction in the next line of the program;\n",
    "- the line number of the instruction that will be executed next, if it is not the next in order in the program.\n",
    "\n",
    "The value `new_memory_state` is the state of the memory after the execution of the instruction `instruction`."
   ]
  },
  {
   "cell_type": "code",
   "execution_count": 4,
   "metadata": {
    "id": "7Z2kQRzF7SpR"
   },
   "outputs": [],
   "source": [
    "def apply(i: ins, to: memory) -> Tuple[Optional[int], memory]:\n",
    "    if type(to) != memory:\n",
    "        raise ValueError(\"do() error! Invalid type of memory\")\n",
    "    if type(i) != ins:\n",
    "        raise ValueError(\"do() error! Invalid type of instruction\")\n",
    "    if i[0] == 0:\n",
    "        to.write(i[1], 0)\n",
    "        return (None, to)\n",
    "    if i[0] == 1:\n",
    "        to.write(i[1], to.read(i[1]) + 1)\n",
    "        return (None, to)\n",
    "    if i[0] == 2:\n",
    "        to.write(i[2], to.read(i[1]))\n",
    "        return (None, to)\n",
    "    # i[0] == 3\n",
    "    return (i[3] if to.read(i[1]) == to.read(i[2]) else None, to)"
   ]
  },
  {
   "cell_type": "code",
   "execution_count": 5,
   "metadata": {
    "colab": {
     "base_uri": "https://localhost:8080/"
    },
    "id": "J2-oNVEWd959",
    "outputId": "21a0dfe1-66c9-40d1-c6e0-f6b93ef883a3"
   },
   "outputs": [
    {
     "name": "stdout",
     "output_type": "stream",
     "text": [
      "             m = [0, 1, 2, 3, 4, 5, 6, 7, 8, 9]\n",
      "next = None; m = [0, 1, 2, 3, 4, 5, 6, 7, 8, 0]\n",
      "next = None; m = [0, 1, 2, 3, 4, 5, 6, 7, 8, 1]\n",
      "next = None; m = [1, 1, 2, 3, 4, 5, 6, 7, 8, 1]\n",
      "next = 5;    m = [1, 1, 2, 3, 4, 5, 6, 7, 8, 1]\n",
      "next = None; m = [1, 1, 2, 3, 4, 5, 6, 7, 8, 1]\n"
     ]
    }
   ],
   "source": [
    "m = memory()\n",
    "for n in range(10):\n",
    "    m.write(n, n)\n",
    "print(f\"{13 * ' '}m = {m}\")\n",
    "next, m = apply(ins.Z(9), to=m)\n",
    "print(f\"next = {next}; m = {m}\")\n",
    "next, m = apply(ins.S(9), to=m)\n",
    "print(f\"next = {next}; m = {m}\")\n",
    "next, m = apply(ins.C(9, 0), to=m)\n",
    "print(f\"next = {next}; m = {m}\")\n",
    "next, m = apply(ins.J(1, 9, 5), to=m)\n",
    "print(f\"next = {next};    m = {m}\")\n",
    "next, m = apply(ins.J(2, 3, 10), to=m)\n",
    "print(f\"next = {next}; m = {m}\")"
   ]
  },
  {
   "cell_type": "markdown",
   "metadata": {
    "id": "l74nSpgBSl7m"
   },
   "source": [
    "# URM-programs and their execution"
   ]
  },
  {
   "cell_type": "markdown",
   "metadata": {
    "id": "w54V9h05mE5q"
   },
   "source": [
    "## Translation of a source text into an instruction list"
   ]
  },
  {
   "cell_type": "markdown",
   "metadata": {
    "id": "WlcJ1IPezSwS"
   },
   "source": [
    "The function `compile()` converts the text into a list of URM instructions."
   ]
  },
  {
   "cell_type": "code",
   "execution_count": 6,
   "metadata": {
    "id": "OfLgefRfrGCj"
   },
   "outputs": [],
   "source": [
    "def compile(text: str) -> Tuple[ins]:\n",
    "    if not isinstance(text, str):\n",
    "        raise ValueError(\"compile() error! Invalid argument type\")\n",
    "    # split `text` into the list of non empty lines\n",
    "    lines = [line for line in [item.strip() for\n",
    "                               item in text.split('\\n')] if\n",
    "             line]\n",
    "    # the function compiles a line\n",
    "    def compile_line(line: str) -> ins:\n",
    "        # remove the tail of 'line' beginning with ')'\n",
    "        item, sep, _ = line.partition(')')\n",
    "        if not sep:  # ')' is absent in the line\n",
    "            raise ValueError(\"compile_line() error! Bad instruction format\")\n",
    "        code, sep, item = item.partition('(')\n",
    "        if not sep:  # '(' is absent in the line\n",
    "            raise ValueError(\"compile_line() error! Bad instruction format\")\n",
    "        if code.strip() == 'Z':\n",
    "            try:  # to recognize Z-instruction\n",
    "                return ins.Z(int(item))\n",
    "            except ValueError:\n",
    "                raise ValueError(\"compile_line() error! Bad Z-instruction\")\n",
    "        elif code.strip() == 'S':\n",
    "            try:  # to recognize S-instruction\n",
    "                return ins.S(int(item))\n",
    "            except ValueError:\n",
    "                raise ValueError(\"compile_line() error! Bad S-instruction\")\n",
    "        elif code.strip() == 'C':\n",
    "            op1, sep, item = item.partition(',')\n",
    "            try:  # to recognize C-instruction\n",
    "                return ins.C(int(op1), int(item))\n",
    "            except ValueError:\n",
    "                raise ValueError(\"compile_line() error! Bad C-instruction\")\n",
    "        elif code.strip() == 'J':\n",
    "            op1, sep, item = item.partition(',')\n",
    "            op2, sep, item = item.partition(',')\n",
    "            try:  # to recognize J-instruction\n",
    "                return ins.J(int(op1), int(op2), int(item))\n",
    "            except:\n",
    "                raise ValueError(\"compile_line() error! Bad J-instruction\")\n",
    "        raise ValueError(\"compile_line() error! Bad instruction format\")\n",
    "    # end of compile_line()\n",
    "    return tuple(compile_line(line) for line in lines)"
   ]
  },
  {
   "cell_type": "markdown",
   "metadata": {
    "id": "eBcW57NO6-aM"
   },
   "source": [
    "An example of using the `compile()` function."
   ]
  },
  {
   "cell_type": "code",
   "execution_count": 64,
   "metadata": {
    "colab": {
     "base_uri": "https://localhost:8080/"
    },
    "id": "5wMcWBoqmnEZ",
    "outputId": "a81f235e-5fc7-4e90-a021-ff93e572d1ab"
   },
   "outputs": [
    {
     "name": "stdout",
     "output_type": "stream",
     "text": [
      "  1: C(2, 0)\n",
      "  2: Z(2)\n",
      "  3: J(1, 2, 0)\n",
      "  4: S(0)\n",
      "  5: S(2)\n",
      "  6: J(0, 0, 3)\n"
     ]
    }
   ],
   "source": [
    "text = \"\"\"\n",
    "    C(2, 0)\n",
    "    Z (2)\n",
    "\n",
    "    J(1, 2, 0)  check loop condition\n",
    "        S(0)\n",
    "        S(2)\n",
    "    J(0, 0, 3)  repeat loop\n",
    "\"\"\"\n",
    "\n",
    "ins_tuple = compile(text)\n",
    "for ni, i in enumerate(ins_tuple):\n",
    "    print(f\"{ni + 1:3d}: {i}\")"
   ]
  },
  {
   "cell_type": "markdown",
   "metadata": {
    "id": "FV-cDiTES0V4"
   },
   "source": [
    "## URM-programs"
   ]
  },
  {
   "cell_type": "markdown",
   "metadata": {
    "id": "rir1QLi5B160"
   },
   "source": [
    "### Software implementation of a URM-program"
   ]
  },
  {
   "cell_type": "code",
   "execution_count": 65,
   "metadata": {
    "id": "irEaC4-iS6nD"
   },
   "outputs": [],
   "source": [
    "class program(tuple):\n",
    "\n",
    "    def __new__(cls, instructions: Tuple[ins]) -> Self:\n",
    "        if not type(instructions) == tuple:\n",
    "            raise ValueError(\"program() error! Invalid argument type\")\n",
    "        if not all(type(instruction) == ins for instruction in instructions):\n",
    "            raise ValueError(\"program() error! Invalid type of argument member\")\n",
    "        return super().__new__(cls, instructions)\n",
    "\n",
    "    def __str__(self):\n",
    "        return \"\\n\".join([f\"{ni + 1: 3d}: {i}\" for ni, i in enumerate(self)])\n",
    "\n",
    "    @property\n",
    "    def length(self):\n",
    "        return len(self)\n",
    "\n",
    "    @property\n",
    "    def haddr(self):\n",
    "        temp = 0\n",
    "        for i in self:\n",
    "            temp = max(temp, *i[1 : 3])\n",
    "        return temp\n",
    "\n",
    "    def get_instruction(self, lineno: int) -> Optional[ins]:\n",
    "        if type(lineno) != int:\n",
    "            raise ValueError(\"program.get_instruction() error! Bad line number\")\n",
    "        if lineno < 1:\n",
    "            return None\n",
    "        try:\n",
    "            return self[lineno - 1]\n",
    "        except IndexError:\n",
    "            return None"
   ]
  },
  {
   "cell_type": "code",
   "execution_count": 66,
   "metadata": {
    "colab": {
     "base_uri": "https://localhost:8080/"
    },
    "id": "ca3jyBTE7Nu9",
    "outputId": "769b2985-1371-40d3-c52e-ea9a2b4841cd"
   },
   "outputs": [
    {
     "name": "stdout",
     "output_type": "stream",
     "text": [
      "Program text:\n",
      "  1: C(2, 0)\n",
      "  2: Z(2)\n",
      "  3: J(1, 2, 0)\n",
      "  4: S(0)\n",
      "  5: S(2)\n",
      "  6: J(0, 0, 3)\n",
      "Program length = 6\n",
      "Program highest address = 2\n"
     ]
    }
   ],
   "source": [
    "p = program(compile(text))\n",
    "print(f\"Program text:\\n{p}\")\n",
    "print(f\"Program length = {p.length}\")\n",
    "print(f\"Program highest address = {p.haddr}\")"
   ]
  },
  {
   "cell_type": "markdown",
   "metadata": {
    "id": "bNrUp10RB9KH"
   },
   "source": [
    "### Execution of a URM-program"
   ]
  },
  {
   "cell_type": "code",
   "execution_count": 67,
   "metadata": {
    "id": "vNtaMaamB8Hu"
   },
   "outputs": [],
   "source": [
    "def run(prgm: program, *data: Tuple[Any]) -> nat:\n",
    "    if type(prgm) != program:\n",
    "        raise ValueError(\"run() error! Bad program\")\n",
    "    try:\n",
    "        data = (nat(x) for x in data)\n",
    "    except:\n",
    "        raise ValueError(\"run() error! Invalid data\")\n",
    "    m = memory()\n",
    "    for addr, value in enumerate(data):\n",
    "        m.write(addr + 1, value)\n",
    "    ic = 1\n",
    "    while True:\n",
    "        i = prgm.get_instruction(ic)\n",
    "        if i is None:\n",
    "            return m.read(0)\n",
    "        q, m = apply(i, to=m)\n",
    "        ic = ic + 1 if q is None else q"
   ]
  },
  {
   "cell_type": "code",
   "execution_count": 68,
   "metadata": {
    "colab": {
     "base_uri": "https://localhost:8080/"
    },
    "id": "hVheckP1FJQX",
    "outputId": "f95642e9-8942-4f60-f3aa-e82b37d8df87"
   },
   "outputs": [
    {
     "name": "stdout",
     "output_type": "stream",
     "text": [
      "0 + 0 =  0 : 2 + 0 =  2 : 4 + 0 =  4 : 6 + 0 =  6 : 8 + 0 =  8\n",
      "0 + 1 =  1 : 2 + 1 =  3 : 4 + 1 =  5 : 6 + 1 =  7 : 8 + 1 =  9\n",
      "0 + 2 =  2 : 2 + 2 =  4 : 4 + 2 =  6 : 6 + 2 =  8 : 8 + 2 = 10\n",
      "0 + 3 =  3 : 2 + 3 =  5 : 4 + 3 =  7 : 6 + 3 =  9 : 8 + 3 = 11\n",
      "0 + 4 =  4 : 2 + 4 =  6 : 4 + 4 =  8 : 6 + 4 = 10 : 8 + 4 = 12\n",
      "0 + 5 =  5 : 2 + 5 =  7 : 4 + 5 =  9 : 6 + 5 = 11 : 8 + 5 = 13\n",
      "0 + 6 =  6 : 2 + 6 =  8 : 4 + 6 = 10 : 6 + 6 = 12 : 8 + 6 = 14\n",
      "0 + 7 =  7 : 2 + 7 =  9 : 4 + 7 = 11 : 6 + 7 = 13 : 8 + 7 = 15\n",
      "0 + 8 =  8 : 2 + 8 = 10 : 4 + 8 = 12 : 6 + 8 = 14 : 8 + 8 = 16\n",
      "0 + 9 =  9 : 2 + 9 = 11 : 4 + 9 = 13 : 6 + 9 = 15 : 8 + 9 = 17\n",
      "1 + 0 =  1 : 3 + 0 =  3 : 5 + 0 =  5 : 7 + 0 =  7 : 9 + 0 =  9\n",
      "1 + 1 =  2 : 3 + 1 =  4 : 5 + 1 =  6 : 7 + 1 =  8 : 9 + 1 = 10\n",
      "1 + 2 =  3 : 3 + 2 =  5 : 5 + 2 =  7 : 7 + 2 =  9 : 9 + 2 = 11\n",
      "1 + 3 =  4 : 3 + 3 =  6 : 5 + 3 =  8 : 7 + 3 = 10 : 9 + 3 = 12\n",
      "1 + 4 =  5 : 3 + 4 =  7 : 5 + 4 =  9 : 7 + 4 = 11 : 9 + 4 = 13\n",
      "1 + 5 =  6 : 3 + 5 =  8 : 5 + 5 = 10 : 7 + 5 = 12 : 9 + 5 = 14\n",
      "1 + 6 =  7 : 3 + 6 =  9 : 5 + 6 = 11 : 7 + 6 = 13 : 9 + 6 = 15\n",
      "1 + 7 =  8 : 3 + 7 = 10 : 5 + 7 = 12 : 7 + 7 = 14 : 9 + 7 = 16\n",
      "1 + 8 =  9 : 3 + 8 = 11 : 5 + 8 = 13 : 7 + 8 = 15 : 9 + 8 = 17\n",
      "1 + 9 = 10 : 3 + 9 = 12 : 5 + 9 = 14 : 7 + 9 = 16 : 9 + 9 = 18\n"
     ]
    }
   ],
   "source": [
    "report = [(x, y, run(p, x, y)) for x in range(10) for y in range(10)]\n",
    "report_items = [\" \".join(\n",
    "    (f\"{x}\", \"+\", f\"{y}\", \"=\", f\"{z:2d}\")) for (x, y, z) in report]\n",
    "report_lines = [\" : \".join(report_items[ic + c * 20] for c in range(5)) for\n",
    "                ic in range(20)]\n",
    "for line in report_lines:\n",
    "    print(line)"
   ]
  },
  {
   "cell_type": "markdown",
   "metadata": {
    "id": "M7d0jt0l7e9b"
   },
   "source": [
    "# Manipulating URM-programs"
   ]
  },
  {
   "cell_type": "markdown",
   "metadata": {},
   "source": [
    "## Normalization of URM-programs"
   ]
  },
  {
   "cell_type": "code",
   "execution_count": 96,
   "metadata": {},
   "outputs": [],
   "source": [
    "def normalize(prgm: program) -> program:\n",
    "    if type(prgm) != program:\n",
    "        raise ValueError(\"run() error! Bad program\")\n",
    "    if prgm.length == 0:\n",
    "        return prgm\n",
    "    normalized_instructions = []\n",
    "    program_size = prgm.length\n",
    "    for i, instruction in enumerate(prgm):\n",
    "        if instruction[0] == 3:\n",
    "            m, n, k = instruction[1:]\n",
    "            if not (1 <= k <= program_size):\n",
    "                k = program_size + 1\n",
    "            normalized_instructions.append(ins.J(m, n, k))\n",
    "        else:\n",
    "            normalized_instructions.append(instruction)\n",
    "            \n",
    "    return program(tuple(normalized_instructions))"
   ]
  },
  {
   "cell_type": "code",
   "execution_count": 97,
   "metadata": {},
   "outputs": [],
   "source": [
    "# Check normalized program\n",
    "p_n = normalize(program(compile(text)))\n",
    "report = [(x, y, run(p_n, x, y)) for x in range(10) for y in range(10)]\n",
    "for x, y, ret in report:\n",
    "    assert (x + y) == int(ret), f\"Failed: {x} + {y} = {ret} (expected {x+y})\""
   ]
  },
  {
   "cell_type": "markdown",
   "metadata": {
    "id": "3Ou42OZw7Ci8"
   },
   "source": [
    "## Concatenation of URM-programs"
   ]
  },
  {
   "cell_type": "code",
   "execution_count": 100,
   "metadata": {
    "id": "d1h7TKbA8AfB"
   },
   "outputs": [],
   "source": [
    "def concat(P: program, Q: program) -> program:\n",
    "    \"\"\"\n",
    "    The function returns the program that operates as P until\n",
    "    its termination and then as Q.\n",
    "\n",
    "    Arguments\n",
    "        P, Q: program\n",
    "\n",
    "    Returns\n",
    "        program\n",
    "    \"\"\"\n",
    "    if not isinstance(P, program) or not isinstance(Q, program):\n",
    "        raise ValueError(\"concat() error! Invalid program type\")\n",
    "    if P.length == 0:\n",
    "        return Q\n",
    "        \n",
    "    P_normalized = normalize(P)\n",
    "    offset = P_normalized.length\n",
    "    Q_adjusted = []\n",
    "    for instruction in Q:\n",
    "        if instruction[0] == 3:  # Jump instruction\n",
    "            m, n, k = instruction[1:]\n",
    "            Q_adjusted.append(ins.J(m, n, k + offset))\n",
    "        else:\n",
    "            Q_adjusted.append(instruction)\n",
    "            \n",
    "    cat = list(P_normalized) + Q_adjusted\n",
    "    \n",
    "    return program(tuple(cat))"
   ]
  },
  {
   "cell_type": "code",
   "execution_count": 105,
   "metadata": {},
   "outputs": [
    {
     "name": "stdout",
     "output_type": "stream",
     "text": [
      "Concatenation: \n",
      "  1: Z(0)\n",
      "  2: S(1)\n",
      "  3: C(2, 3)\n",
      "  4: J(4, 5, 5)\n",
      "  5: J(4, 5, 4)\n",
      "  6: C(2, 3)\n",
      "  7: S(1)\n",
      "  8: Z(0)\n"
     ]
    }
   ],
   "source": [
    "text_P = \"Z(0)\\nS(1)\\nC(2,3)\\nJ(4,5,0)\"\n",
    "text_Q = \"J(4,5,0)\\nC(2,3)\\nS(1)\\nZ(0)\"\n",
    "P, Q = program(compile(text_P)), program(compile(text_Q))\n",
    "C = concat(P, Q)\n",
    "print(f'Concatenation: \\n{C}')"
   ]
  },
  {
   "cell_type": "code",
   "execution_count": 109,
   "metadata": {},
   "outputs": [
    {
     "name": "stdout",
     "output_type": "stream",
     "text": [
      "Program P: Z(0)         \tProgram Q:              \tP⊳Q: Z(0)\n",
      "Program P: S(1)         \tProgram Q:              \tP⊳Q: S(1)\n",
      "Program P: C(2, 3)      \tProgram Q:              \tP⊳Q: C(2, 3)\n",
      "Program P: J(4, 5, 0)   \tProgram Q:              \tP⊳Q: J(4, 5, 5)\n",
      "Program P:              \tProgram Q: J(4, 5, 0)   \tP⊳Q: J(4, 5, 4)\n",
      "Program P:              \tProgram Q: C(2, 3)      \tP⊳Q: C(2, 3)\n",
      "Program P:              \tProgram Q: S(1)         \tP⊳Q: S(1)\n",
      "Program P:              \tProgram Q: Z(0)         \tP⊳Q: Z(0)\n"
     ]
    }
   ],
   "source": [
    "# Contrast the beautiful print\n",
    "COLUMN_WIDTH = 13\n",
    "SEPARATOR = '\\t'\n",
    "for line in range(P.length):\n",
    "    print(f\"Program P: {str(P[line]):{COLUMN_WIDTH}}\"\n",
    "          f\"{SEPARATOR}Program Q: {COLUMN_WIDTH * ' '}\"\n",
    "          f\"{SEPARATOR}P⊳Q: {C[line]}\")\n",
    "\n",
    "for line in range(Q.length):\n",
    "    print(f\"Program P: {COLUMN_WIDTH * ' '}\"\n",
    "          f\"{SEPARATOR}Program Q: {str(Q[line]):{COLUMN_WIDTH}}\"\n",
    "          f\"{SEPARATOR}P⊳Q: {C[P.length + line]}\")"
   ]
  },
  {
   "cell_type": "markdown",
   "metadata": {
    "id": "Kr_yQyZ19BR9"
   },
   "source": [
    "## Moving URM-program in Memory"
   ]
  },
  {
   "cell_type": "code",
   "execution_count": 13,
   "metadata": {
    "id": "cMTdPqrK9HwV"
   },
   "outputs": [],
   "source": [
    "def move(P: program, off: int=0) -> program:\n",
    "    \"\"\"\n",
    "    The function returns the program that operates as P in the registers\n",
    "    R[off], R[off + 1], ...\n",
    "\n",
    "    Arguments\n",
    "        P: program\n",
    "        off: int {off >= 0}\n",
    "    Returns\n",
    "        program\n",
    "    \"\"\"\n",
    "    pass"
   ]
  },
  {
   "cell_type": "code",
   "execution_count": null,
   "metadata": {},
   "outputs": [],
   "source": []
  }
 ],
 "metadata": {
  "colab": {
   "include_colab_link": true,
   "provenance": [],
   "toc_visible": true
  },
  "kernelspec": {
   "display_name": "Python 3 (ipykernel)",
   "language": "python",
   "name": "python3"
  },
  "language_info": {
   "codemirror_mode": {
    "name": "ipython",
    "version": 3
   },
   "file_extension": ".py",
   "mimetype": "text/x-python",
   "name": "python",
   "nbconvert_exporter": "python",
   "pygments_lexer": "ipython3",
   "version": "3.8.12"
  }
 },
 "nbformat": 4,
 "nbformat_minor": 4
}
