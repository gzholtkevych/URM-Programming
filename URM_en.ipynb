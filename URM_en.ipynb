{
  "nbformat": 4,
  "nbformat_minor": 0,
  "metadata": {
    "colab": {
      "provenance": [],
      "toc_visible": true
    },
    "kernelspec": {
      "name": "python3",
      "display_name": "Python 3"
    },
    "language_info": {
      "name": "python"
    }
  },
  "cells": [
    {
      "cell_type": "markdown",
      "source": [
        "<H1><b>Unlimited Register Machine</b></H1>"
      ],
      "metadata": {
        "id": "9znhUfwKqTbC"
      }
    },
    {
      "cell_type": "markdown",
      "source": [
        "**U**nlimited **R**egister **M**achine (URM) is a realization of the approach to programming based on the automaton concept.\n",
        "URM is an easier-to-understand alternative to a Turing machine.\n",
        "\n",
        "It has (to a certain extent) the same capabilities as the Turing machine, to which URM is logically equivalent.\n",
        "The URM was presented in an article published in 1963\n",
        "\n",
        ">[John C. Shepherdson and H.E. Sturgis: *Computability of Recursive Functions*. J. ACM Vol. 10, no. 2, pp. 217–255.](https://dl.acm.org/doi/pdf/10.1145/321160.321170)"
      ],
      "metadata": {
        "id": "j80Dq1uYTM5X"
      }
    },
    {
      "cell_type": "markdown",
      "source": [
        "# Preparing a notebook to use"
      ],
      "metadata": {
        "id": "v09Os5dUx9HG"
      }
    },
    {
      "cell_type": "markdown",
      "source": [],
      "metadata": {
        "id": "qn2Y6ORtXvzV"
      }
    },
    {
      "cell_type": "code",
      "source": [
        "from google.colab import drive\n",
        "drive.mount('/content/drive')\n",
        "\n",
        "import sys\n",
        "sys.path.append('/content/drive/MyDrive/ColabNotebooks/Computability')"
      ],
      "metadata": {
        "colab": {
          "base_uri": "https://localhost:8080/"
        },
        "id": "0uybnLWmIUXM",
        "outputId": "4c50b7a8-9a0b-4539-e820-9cf9d18a107f"
      },
      "execution_count": 1,
      "outputs": [
        {
          "output_type": "stream",
          "name": "stdout",
          "text": [
            "Drive already mounted at /content/drive; to attempt to forcibly remount, call drive.mount(\"/content/drive\", force_remount=True).\n"
          ]
        }
      ]
    },
    {
      "cell_type": "code",
      "source": [
        "from typing import Dict, Any, Optional, Tuple, List\n",
        "from typing_extensions import Self\n",
        "from functools import reduce\n",
        "from compy.nat import nat"
      ],
      "metadata": {
        "id": "UXJMbTOywbm7"
      },
      "execution_count": 2,
      "outputs": []
    },
    {
      "cell_type": "markdown",
      "source": [
        "# Memory of UMR"
      ],
      "metadata": {
        "id": "HzUdUTt7HgUK"
      }
    },
    {
      "cell_type": "markdown",
      "source": [
        "## Registers"
      ],
      "metadata": {
        "id": "yYfVbwVlUtTA"
      }
    },
    {
      "cell_type": "markdown",
      "source": [
        "URM has an enumerated set of ***registers***, each of which can store a natural number $n\\in\\mathbb{N}$, where $\\mathbb{N}=\\{0,1,2,\\dotsc\\} $.\n",
        "\n",
        "Each URM program can use only a finite set of registers.\n",
        "\n",
        "Registers are usually denoted by a capital letter $R$ with an index: $R_{0},R_{1},R_{2},\\dotsc$.\n",
        "The index (which is a natural number) is called the ***register index***.\n",
        "The number holding register $R_{n}$ is usually denoted by $r_{n}$.\n",
        "\n",
        "Registers are unlimited in the following two senses:\n",
        "\n",
        "- even though a URM program can use only a finite set of registers, there is no upper limit for the number of registers used by the programs;\n",
        "- there is no upper limit for numbers stored by registers."
      ],
      "metadata": {
        "id": "5feB_pFWU738"
      }
    },
    {
      "cell_type": "markdown",
      "source": [
        "## Memory states"
      ],
      "metadata": {
        "id": "4ehurE3IWVKK"
      }
    },
    {
      "cell_type": "markdown",
      "source": [
        "The state of the memory is determined by the values ​​stored in the registers."
      ],
      "metadata": {
        "id": "hlqyf9r6WamQ"
      }
    },
    {
      "cell_type": "markdown",
      "source": [
        "## Software implementation"
      ],
      "metadata": {
        "id": "JKN8B0vKW0OB"
      }
    },
    {
      "cell_type": "markdown",
      "source": [
        "The memory of URM is implemented as class `memory` inherited from the built-in type `list`.\n",
        "\n",
        "The property `size` equals the length of the corresponding list.\n",
        "\n",
        "The methods `read()` and `write()` provide correct reading from and writing to the memory."
      ],
      "metadata": {
        "id": "IGQ1ohl7kIzK"
      }
    },
    {
      "cell_type": "code",
      "source": [
        "class memory(list):\n",
        "\n",
        "    def __new__(cls) -> Self:\n",
        "        return super().__new__(cls, [])\n",
        "\n",
        "    @property\n",
        "    def size(self) -> int:\n",
        "        return len(self)\n",
        "\n",
        "    def read(self, addr: int) -> nat:\n",
        "        try:\n",
        "            n = nat(addr)\n",
        "        except ValueError:\n",
        "            raise ValueError(\"memory.read() error! Bad argument\")\n",
        "        try:\n",
        "            return self[n]\n",
        "        except IndexError:\n",
        "            return nat(0)\n",
        "\n",
        "    def write(self, addr: int, value: Any) -> None:\n",
        "        try:\n",
        "            n, v = nat(addr), nat(value)\n",
        "        except ValueError:\n",
        "            raise ValueError(\"memory.write() error! Bad argument(s)\")\n",
        "        diff = self.size - n\n",
        "        if diff <= 0:  # access to a register that is not yet allocated\n",
        "            self += (1 - diff) * [nat(0)]  # allocate additional registers\n",
        "        self[n] = v\n"
      ],
      "metadata": {
        "id": "SivyyEI1H1El"
      },
      "execution_count": 3,
      "outputs": []
    },
    {
      "cell_type": "markdown",
      "source": [
        "## URM-programs"
      ],
      "metadata": {
        "id": "K2ea07zgWg6Q"
      }
    },
    {
      "cell_type": "markdown",
      "source": [
        "***Execution states***, that is, the value of the registers and the instruction counter, is changed by programs.\n",
        "\n",
        "A ***URM program*** is a finite list of ***instructions***.\n",
        "\n",
        "Program instructions are written in a certain order and numbered with positive natural numbers $1,2,3,\\dotsc$.<br/>\n",
        "**Please note!** Instruction number 0 does not exist in the program.\n",
        "\n",
        "The instruction number for historical reasons is called the ***program line number***."
      ],
      "metadata": {
        "id": "lWOiwFXtWpDZ"
      }
    },
    {
      "cell_type": "markdown",
      "source": [
        "## Instruction counter"
      ],
      "metadata": {
        "id": "32IJjIbpWBGs"
      }
    },
    {
      "cell_type": "markdown",
      "source": [
        "The ***instruction counter*** is an additional register that stores a natural number.\n",
        "This register is denoted by $IC$ and its contents are $ic$."
      ],
      "metadata": {
        "id": "eBeuV9d4WL7h"
      }
    },
    {
      "cell_type": "markdown",
      "source": [
        "<table width=\"800pt\">\n",
        "<tr><th width=\"100pt\">Name</th>\n",
        "<th width=100pt>Mnemonic code</th>\n",
        "<th width=\"200pt\">Effect</th>\n",
        "<th>Description</th></tr>\n",
        "<tr><td>Zero</td>\n",
        "<td align=\"center\">$\\mathtt{Z}(n)$</td>\n",
        "<td align=\"center\">$R_n\\gets 0$<br/>$IC\\gets ic+1$</td>\n",
        "<td>Replace the value in $R_{n}$ with $0$ and jump to the nextline of the<br/>program</td></tr>\n",
        "<tr><td>Successor</td>\n",
        "<td align=\"center\">$\\mathtt{S}(n)$</td>\n",
        "<td align=\"center\">$R_n\\gets r_n+1$<br/>$IC\\gets ic+1$</td>\n",
        "<td>Increase the value of register $R_{n}$ by $1$ and jump to the next line of<br/>the program</td></tr>\n",
        "<tr><td>Copy</td>\n",
        "<td align=\"center\">$\\mathtt{C}(m,n)$</td>\n",
        "<td align=\"center\">$R_n\\gets r_m$<br/>$IC\\gets ic+1$</td>\n",
        "<td>Replace the value in $R_{n}$ with the content of $R_{m}$ (keeping the<br/>content of $R_{m}$) and jump to the next line of the program</td></tr>\n",
        "<tr><td>Jump</td>\n",
        "<td align=\"center\">$\\mathtt{J}(m,n,k)$</td>\n",
        "<td align=\"center\">$IC\\gets k\\ \\mathtt{if}\\ r_m=r_n\\ \\mathtt{else}\\ ic+1$</td>\n",
        "<td>If the values ​​stored in $R_{m}$ and $R_{n}$ match, then jump to the<br/>program line with number $k$, otherwise to the next program line</td></tr>\n",
        "</table>"
      ],
      "metadata": {
        "id": "8qzxofV3XxDd"
      }
    },
    {
      "cell_type": "markdown",
      "source": [
        "## Software implementation"
      ],
      "metadata": {
        "id": "nmmw7_IM66tM"
      }
    },
    {
      "cell_type": "markdown",
      "source": [
        "The `ins` class provides the data type implementation inhabited by the URM instructions.\n",
        "\n",
        "- The instruction `Z(n)` is represented by a tuple `(0, n)`.\n",
        "- The instruction `S(n)` is represented by a tuple `(1, n)`.\n",
        "- The instruction `C(m, n)` is represented by the tuple `(2, m, n)`.\n",
        "- The instruction `J(m, n, k)` is represented by the tuple `(3, m, n, k)`.\n",
        "\n",
        "To correctly represent instructions by strings, the `__str__()` method is overloaded for this class.\n",
        "\n",
        "The class methods `Z()`, `S()`, `C()` and `J()` provide convenient instruction creation."
      ],
      "metadata": {
        "id": "6ccI_PKAazXL"
      }
    },
    {
      "cell_type": "code",
      "execution_count": 4,
      "metadata": {
        "id": "b6jA7G8rqOg9"
      },
      "outputs": [],
      "source": [
        "class ins(tuple):\n",
        "\n",
        "    def __new__(cls, *args: Tuple[int]) -> Self:\n",
        "        if not (2 <= len(args) <= 4):\n",
        "            raise ValueError(\"ins() error! Invalid number of arguments\")\n",
        "        if not all(type(arg) == int for arg in args):\n",
        "            raise ValueError(\"ins() error! Invalid type of argument(s)\")\n",
        "        if args[0] > 3:\n",
        "            raise ValueError(\"ins() error! Invalid instruction code\")\n",
        "        if not all(arg >= 0 for arg in args[1 :]):\n",
        "            raise ValueError(\"ins() error! Invalid value of operand(s)\")\n",
        "        return super().__new__(cls, args)\n",
        "\n",
        "    def __str__(self) -> str:\n",
        "        if self[0] == 0:\n",
        "            return f\"Z({self[1]})\"\n",
        "        if self[0] == 1:\n",
        "            return f\"S({self[1]})\"\n",
        "        if self[0] == 2:\n",
        "            return f\"C{self[1 :]}\"\n",
        "        # self[0] == 3\n",
        "        return f\"J{self[1 :]}\"\n",
        "\n",
        "    @classmethod\n",
        "    def Z(cls, n: Any) -> Self:\n",
        "        try:\n",
        "            return ins(0, n)\n",
        "        except ValueError:\n",
        "            raise ValueError(\"Z() error! Bad operand\")\n",
        "\n",
        "    @classmethod\n",
        "    def S(cls, n: Any) -> Self:\n",
        "        try:\n",
        "            return ins(1, n)\n",
        "        except ValueError:\n",
        "            raise ValueError(\"S() error! Bad operand\")\n",
        "\n",
        "    @classmethod\n",
        "    def C(cls, m: Any, n: Any) -> Self:\n",
        "        try:\n",
        "            return ins(2, m, n)\n",
        "        except ValueError:\n",
        "            raise ValueError(\"C() error! Bad operand(s)\")\n",
        "\n",
        "    @classmethod\n",
        "    def J(cls, m: Any, n: Any, k: Any) -> Self:\n",
        "        try:\n",
        "            return ins(3, m, n, k)\n",
        "        except ValueError:\n",
        "            raise ValueError(\"J() error! Bad operand(s)\")\n"
      ]
    },
    {
      "cell_type": "markdown",
      "source": [
        "## Instructions execution"
      ],
      "metadata": {
        "id": "789mprGe7NE-"
      }
    },
    {
      "cell_type": "markdown",
      "source": [
        "The execution of `instruction: ins` if the memory state is `memory_state` implements by calling `apply(instruction, to=memory_state)`, which provides returning the pair `(how_to_change_IC, new_memory_state)`.\n",
        "\n",
        "The value of `how_to_change_IC` is equal to\n",
        "\n",
        "- `None`, if after the instruction `instruction` it is necessary to execute the instruction in the next line of the program;\n",
        "- the line number of the instruction that will be executed next, if it is not the next in order in the program.\n",
        "\n",
        "The value `new_memory_state` is the state of the memory after the execution of the instruction `instruction`."
      ],
      "metadata": {
        "id": "MiHtXnCkhpPQ"
      }
    },
    {
      "cell_type": "code",
      "source": [
        "def apply(i: ins, to: memory) -> Tuple[Optional[int], memory]:\n",
        "    if type(to) != memory:\n",
        "        raise ValueError(\"do() error! Invalid type of memory\")\n",
        "    if type(i) != ins:\n",
        "        raise ValueError(\"do() error! Invalid type of instruction\")\n",
        "    if i[0] == 0:\n",
        "        to.write(i[1], 0)\n",
        "        return (None, to)\n",
        "    if i[0] == 1:\n",
        "        to.write(i[1], to.read(i[1]) + 1)\n",
        "        return (None, to)\n",
        "    if i[0] == 2:\n",
        "        to.write(i[2], to.read(i[1]))\n",
        "        return (None, to)\n",
        "    # i[0] == 3\n",
        "    return (i[3] if to.read(i[1]) == to.read(i[2]) else None, to)"
      ],
      "metadata": {
        "id": "7Z2kQRzF7SpR"
      },
      "execution_count": 5,
      "outputs": []
    },
    {
      "cell_type": "code",
      "source": [
        "m = memory()\n",
        "for n in range(10):\n",
        "    m.write(n, n)\n",
        "print(f\"{13 * ' '}m = {m}\")\n",
        "next, m = apply(ins.Z(9), to=m)\n",
        "print(f\"next = {next}; m = {m}\")\n",
        "next, m = apply(ins.S(9), to=m)\n",
        "print(f\"next = {next}; m = {m}\")\n",
        "next, m = apply(ins.C(9, 0), to=m)\n",
        "print(f\"next = {next}; m = {m}\")\n",
        "next, m = apply(ins.J(1, 9, 5), to=m)\n",
        "print(f\"next = {next};    m = {m}\")\n",
        "next, m = apply(ins.J(2, 3, 10), to=m)\n",
        "print(f\"next = {next}; m = {m}\")"
      ],
      "metadata": {
        "colab": {
          "base_uri": "https://localhost:8080/"
        },
        "id": "J2-oNVEWd959",
        "outputId": "d4265cab-691c-4c3c-d37b-01feadb1967c"
      },
      "execution_count": 6,
      "outputs": [
        {
          "output_type": "stream",
          "name": "stdout",
          "text": [
            "             m = [0, 1, 2, 3, 4, 5, 6, 7, 8, 9]\n",
            "next = None; m = [0, 1, 2, 3, 4, 5, 6, 7, 8, 0]\n",
            "next = None; m = [0, 1, 2, 3, 4, 5, 6, 7, 8, 1]\n",
            "next = None; m = [1, 1, 2, 3, 4, 5, 6, 7, 8, 1]\n",
            "next = 5;    m = [1, 1, 2, 3, 4, 5, 6, 7, 8, 1]\n",
            "next = None; m = [1, 1, 2, 3, 4, 5, 6, 7, 8, 1]\n"
          ]
        }
      ]
    },
    {
      "cell_type": "markdown",
      "source": [
        "# URM-programs and their execution"
      ],
      "metadata": {
        "id": "l74nSpgBSl7m"
      }
    },
    {
      "cell_type": "markdown",
      "source": [
        "## Translation of a source text into an instruction list"
      ],
      "metadata": {
        "id": "w54V9h05mE5q"
      }
    },
    {
      "cell_type": "markdown",
      "source": [
        "The function `compile()` converts the text into a list of URM instructions."
      ],
      "metadata": {
        "id": "WlcJ1IPezSwS"
      }
    },
    {
      "cell_type": "code",
      "source": [
        "def compile(text: str) -> Tuple[ins]:\n",
        "    if not isinstance(text, str):\n",
        "        raise ValueError(\"compile() error! Invalid argument type\")\n",
        "    # split `text` into the list of non empty lines\n",
        "    lines = [line for line in [item.strip() for\n",
        "                               item in text.split('\\n')] if\n",
        "             line]\n",
        "    # the function compiles a line\n",
        "    def compile_line(line: str) -> ins:\n",
        "        # remove the tail of 'line' beginning with ')'\n",
        "        item, sep, _ = line.partition(')')\n",
        "        if not sep:  # ')' is absent in the line\n",
        "            raise ValueError(\"compile_line() error! Bad instruction format\")\n",
        "        code, sep, item = item.partition('(')\n",
        "        if not sep:  # '(' is absent in the line\n",
        "            raise ValueError(\"compile_line() error! Bad instruction format\")\n",
        "        if code.strip() == 'Z':\n",
        "            try:  # to recognize Z-instruction\n",
        "                return ins.Z(int(item))\n",
        "            except ValueError:\n",
        "                raise ValueError(\"compile_line() error! Bad Z-instruction\")\n",
        "        elif code.strip() == 'S':\n",
        "            try:  # to recognize S-instruction\n",
        "                return ins.S(int(item))\n",
        "            except ValueError:\n",
        "                raise ValueError(\"compile_line() error! Bad S-instruction\")\n",
        "        elif code.strip() == 'C':\n",
        "            op1, sep, item = item.partition(',')\n",
        "            try:  # to recognize C-instruction\n",
        "                return ins.C(int(op1), int(item))\n",
        "            except ValueError:\n",
        "                raise ValueError(\"compile_line() error! Bad C-instruction\")\n",
        "        elif code.strip() == 'J':\n",
        "            op1, sep, item = item.partition(',')\n",
        "            op2, sep, item = item.partition(',')\n",
        "            try:  # to recognize J-instruction\n",
        "                return ins.J(int(op1), int(op2), int(item))\n",
        "            except:\n",
        "                raise ValueError(\"compile_line() error! Bad J-instruction\")\n",
        "        raise ValueError(\"compile_line() error! Bad instruction format\")\n",
        "    # end of compile_line()\n",
        "    return tuple(compile_line(line) for line in lines)"
      ],
      "metadata": {
        "id": "OfLgefRfrGCj"
      },
      "execution_count": 7,
      "outputs": []
    },
    {
      "cell_type": "markdown",
      "source": [
        "An example of using the `compile()` function."
      ],
      "metadata": {
        "id": "eBcW57NO6-aM"
      }
    },
    {
      "cell_type": "code",
      "source": [
        "text = \"\"\"\n",
        "    C(2, 0)\n",
        "    Z (2)\n",
        "\n",
        "    J(1, 2, 0)  check loop condition\n",
        "        S(0)\n",
        "        S(2)\n",
        "    J(0, 0, 3)  repeat loop\n",
        "\"\"\"\n",
        "\n",
        "ins_tuple = compile(text)\n",
        "for ni, i in enumerate(ins_tuple):\n",
        "    print(f\"{ni + 1:3d}: {i}\")"
      ],
      "metadata": {
        "colab": {
          "base_uri": "https://localhost:8080/"
        },
        "id": "5wMcWBoqmnEZ",
        "outputId": "63b2409d-aecc-4a09-fc98-99d0d06ef938"
      },
      "execution_count": 8,
      "outputs": [
        {
          "output_type": "stream",
          "name": "stdout",
          "text": [
            "  1: C(2, 0)\n",
            "  2: Z(2)\n",
            "  3: J(1, 2, 0)\n",
            "  4: S(0)\n",
            "  5: S(2)\n",
            "  6: J(0, 0, 3)\n"
          ]
        }
      ]
    },
    {
      "cell_type": "markdown",
      "source": [
        "## URM-programs"
      ],
      "metadata": {
        "id": "FV-cDiTES0V4"
      }
    },
    {
      "cell_type": "markdown",
      "source": [
        "### Software implementation of a URM-program"
      ],
      "metadata": {
        "id": "rir1QLi5B160"
      }
    },
    {
      "cell_type": "code",
      "source": [
        "class program(tuple):\n",
        "\n",
        "    def __new__(cls, instructions: Tuple[ins]) -> Self:\n",
        "        if not type(instructions) == tuple:\n",
        "            raise ValueError(\"program() error! Invalid argument type\")\n",
        "        if not all(type(instruction) == ins for instruction in instructions):\n",
        "            raise ValueError(\"program() error! Invalid type of argument member\")\n",
        "        return super().__new__(cls, instructions)\n",
        "\n",
        "    def __str__(self):\n",
        "        return \"\\n\".join([f\"{ni + 1: 3d}: {i}\" for ni, i in enumerate(self)])\n",
        "\n",
        "    @property\n",
        "    def length(self):\n",
        "        return len(self)\n",
        "\n",
        "    @property\n",
        "    def haddr(self):\n",
        "        temp = 0\n",
        "        for i in self:\n",
        "            temp = max(temp, *i[1 : 3])\n",
        "        return temp\n",
        "\n",
        "    def get_instruction(self, lineno: int) -> Optional[ins]:\n",
        "        if type(lineno) != int:\n",
        "            raise ValueError(\"program.get_instruction() error! Bad line number\")\n",
        "        if lineno < 1:\n",
        "            return None\n",
        "        try:\n",
        "            return self[lineno - 1]\n",
        "        except IndexError:\n",
        "            return None"
      ],
      "metadata": {
        "id": "irEaC4-iS6nD"
      },
      "execution_count": 9,
      "outputs": []
    },
    {
      "cell_type": "code",
      "source": [
        "p = program(compile(text))\n",
        "print(f\"Program text:\\n{p}\")\n",
        "print(f\"Program length = {p.length}\")\n",
        "print(f\"Program highest address = {p.haddr}\")"
      ],
      "metadata": {
        "colab": {
          "base_uri": "https://localhost:8080/"
        },
        "id": "ca3jyBTE7Nu9",
        "outputId": "6480acb0-328f-49d8-ed10-9f8484d66016"
      },
      "execution_count": 10,
      "outputs": [
        {
          "output_type": "stream",
          "name": "stdout",
          "text": [
            "Program text:\n",
            "  1: C(2, 0)\n",
            "  2: Z(2)\n",
            "  3: J(1, 2, 0)\n",
            "  4: S(0)\n",
            "  5: S(2)\n",
            "  6: J(0, 0, 3)\n",
            "Program length = 6\n",
            "Program highest address = 2\n"
          ]
        }
      ]
    },
    {
      "cell_type": "markdown",
      "source": [
        "### Execution of a URM-program"
      ],
      "metadata": {
        "id": "bNrUp10RB9KH"
      }
    },
    {
      "cell_type": "code",
      "source": [
        "def run(prgm: program, *data: Tuple[Any]) -> nat:\n",
        "    if type(prgm) != program:\n",
        "        raise ValueError(\"run() error! Bad program\")\n",
        "    try:\n",
        "        data = (nat(x) for x in data)\n",
        "    except:\n",
        "        raise ValueError(\"run() error! Invalid data\")\n",
        "    m = memory()\n",
        "    for addr, value in enumerate(data):\n",
        "        m.write(addr + 1, value)\n",
        "    ic = 1\n",
        "    while True:\n",
        "        i = prgm.get_instruction(ic)\n",
        "        if i is None:\n",
        "            return m.read(0)\n",
        "        q, m = apply(i, to=m)\n",
        "        ic = ic + 1 if q is None else q"
      ],
      "metadata": {
        "id": "vNtaMaamB8Hu"
      },
      "execution_count": 11,
      "outputs": []
    },
    {
      "cell_type": "code",
      "source": [
        "report = [(x, y, run(p, x, y)) for x in range(10) for y in range(10)]\n",
        "report_items = [\" \".join(\n",
        "    (f\"{x}\", \"+\", f\"{y}\", \"=\", f\"{z:2d}\")) for (x, y, z) in report]\n",
        "report_lines = [\" : \".join(report_items[ic + c * 20] for c in range(5)) for\n",
        "                ic in range(20)]\n",
        "for line in report_lines:\n",
        "    print(line)"
      ],
      "metadata": {
        "colab": {
          "base_uri": "https://localhost:8080/"
        },
        "id": "hVheckP1FJQX",
        "outputId": "32fbd96c-a59d-42b9-c4dd-57402e25e417"
      },
      "execution_count": 12,
      "outputs": [
        {
          "output_type": "stream",
          "name": "stdout",
          "text": [
            "0 + 0 =  0 : 2 + 0 =  2 : 4 + 0 =  4 : 6 + 0 =  6 : 8 + 0 =  8\n",
            "0 + 1 =  1 : 2 + 1 =  3 : 4 + 1 =  5 : 6 + 1 =  7 : 8 + 1 =  9\n",
            "0 + 2 =  2 : 2 + 2 =  4 : 4 + 2 =  6 : 6 + 2 =  8 : 8 + 2 = 10\n",
            "0 + 3 =  3 : 2 + 3 =  5 : 4 + 3 =  7 : 6 + 3 =  9 : 8 + 3 = 11\n",
            "0 + 4 =  4 : 2 + 4 =  6 : 4 + 4 =  8 : 6 + 4 = 10 : 8 + 4 = 12\n",
            "0 + 5 =  5 : 2 + 5 =  7 : 4 + 5 =  9 : 6 + 5 = 11 : 8 + 5 = 13\n",
            "0 + 6 =  6 : 2 + 6 =  8 : 4 + 6 = 10 : 6 + 6 = 12 : 8 + 6 = 14\n",
            "0 + 7 =  7 : 2 + 7 =  9 : 4 + 7 = 11 : 6 + 7 = 13 : 8 + 7 = 15\n",
            "0 + 8 =  8 : 2 + 8 = 10 : 4 + 8 = 12 : 6 + 8 = 14 : 8 + 8 = 16\n",
            "0 + 9 =  9 : 2 + 9 = 11 : 4 + 9 = 13 : 6 + 9 = 15 : 8 + 9 = 17\n",
            "1 + 0 =  1 : 3 + 0 =  3 : 5 + 0 =  5 : 7 + 0 =  7 : 9 + 0 =  9\n",
            "1 + 1 =  2 : 3 + 1 =  4 : 5 + 1 =  6 : 7 + 1 =  8 : 9 + 1 = 10\n",
            "1 + 2 =  3 : 3 + 2 =  5 : 5 + 2 =  7 : 7 + 2 =  9 : 9 + 2 = 11\n",
            "1 + 3 =  4 : 3 + 3 =  6 : 5 + 3 =  8 : 7 + 3 = 10 : 9 + 3 = 12\n",
            "1 + 4 =  5 : 3 + 4 =  7 : 5 + 4 =  9 : 7 + 4 = 11 : 9 + 4 = 13\n",
            "1 + 5 =  6 : 3 + 5 =  8 : 5 + 5 = 10 : 7 + 5 = 12 : 9 + 5 = 14\n",
            "1 + 6 =  7 : 3 + 6 =  9 : 5 + 6 = 11 : 7 + 6 = 13 : 9 + 6 = 15\n",
            "1 + 7 =  8 : 3 + 7 = 10 : 5 + 7 = 12 : 7 + 7 = 14 : 9 + 7 = 16\n",
            "1 + 8 =  9 : 3 + 8 = 11 : 5 + 8 = 13 : 7 + 8 = 15 : 9 + 8 = 17\n",
            "1 + 9 = 10 : 3 + 9 = 12 : 5 + 9 = 14 : 7 + 9 = 16 : 9 + 9 = 18\n"
          ]
        }
      ]
    },
    {
      "cell_type": "markdown",
      "source": [
        "# Manipulating URM-programs"
      ],
      "metadata": {
        "id": "M7d0jt0l7e9b"
      }
    },
    {
      "cell_type": "markdown",
      "source": [
        "## Normalization of URM-programs"
      ],
      "metadata": {
        "id": "Ihhd9seSXQaf"
      }
    },
    {
      "cell_type": "code",
      "source": [
        "def normalize(P: program) -> program:\n",
        "    \"\"\"\n",
        "    Normalizes a URM program by ensuring all jump instructions have valid targets.\n",
        "    If a jump target k is not in range [1, program_size], it is set to program_size + 1.\n",
        "\n",
        "    Arguments\n",
        "        P: program\n",
        "\n",
        "    Returns\n",
        "        program\n",
        "    \"\"\"\n",
        "    if type(P) != program:\n",
        "        raise ValueError(\"normalize() error! Invalid argument type\")\n",
        "    if P.length == 0:\n",
        "        return P\n",
        "    normalized_instructions = []\n",
        "    program_size = P.length\n",
        "    for i, instruction in enumerate(P):\n",
        "        if instruction[0] == 3:\n",
        "            m, n, k = instruction[1:]\n",
        "            if not (1 <= k <= program_size):\n",
        "                k = program_size + 1\n",
        "            normalized_instructions.append(ins.J(m, n, k))\n",
        "        else:\n",
        "            normalized_instructions.append(instruction)\n",
        "\n",
        "    return program(tuple(normalized_instructions))"
      ],
      "metadata": {
        "id": "ICB0f78XXRkY"
      },
      "execution_count": 13,
      "outputs": []
    },
    {
      "cell_type": "code",
      "source": [
        "# Check normalized program\n",
        "p_n = normalize(program(compile(text)))\n",
        "report = [(x, y, run(p_n, x, y)) for x in range(10) for y in range(10)]\n",
        "for x, y, ret in report:\n",
        "    assert (x + y) == int(ret), f\"Failed: {x} + {y} = {ret} (expected {x+y})\""
      ],
      "metadata": {
        "id": "V16SKgpoXdQh"
      },
      "execution_count": 14,
      "outputs": []
    },
    {
      "cell_type": "markdown",
      "source": [
        "## Concatenation of URM-programs"
      ],
      "metadata": {
        "id": "3Ou42OZw7Ci8"
      }
    },
    {
      "cell_type": "code",
      "source": [
        "def concat(P: program, Q: program) -> program:\n",
        "    \"\"\"\n",
        "    The function returns the program that operates as P until\n",
        "    its termination and then as Q.\n",
        "\n",
        "    Arguments\n",
        "        P, Q: program\n",
        "\n",
        "    Returns\n",
        "        program\n",
        "    \"\"\"\n",
        "    if not isinstance(P, program) or not isinstance(Q, program):\n",
        "        raise ValueError(\"concat() error! Invalid program type\")\n",
        "    if P.length == 0:\n",
        "        return Q\n",
        "\n",
        "    P_normalized = normalize(P)\n",
        "    offset = P_normalized.length\n",
        "    Q_adjusted = []\n",
        "    for instruction in Q:\n",
        "        if instruction[0] == 3:  # Jump instruction\n",
        "            m, n, k = instruction[1:]\n",
        "            new_k = k + offset if k > 0 else k\n",
        "            Q_adjusted.append(ins.J(m, n, new_k))\n",
        "        else:\n",
        "            Q_adjusted.append(instruction)\n",
        "\n",
        "    cat = list(P_normalized) + Q_adjusted\n",
        "\n",
        "    return program(tuple(cat))"
      ],
      "metadata": {
        "id": "d1h7TKbA8AfB"
      },
      "execution_count": 15,
      "outputs": []
    },
    {
      "cell_type": "code",
      "source": [
        "text_P = \"\"\"Z(0)\n",
        "            C(1,2)\n",
        "            S(0)\n",
        "            J(3,4,0)\n",
        "        \"\"\"\n",
        "text_Q = \"\"\"\n",
        "            S(0)\n",
        "            J(3,4,0)\n",
        "            Z(0)\n",
        "            C(1,0)\n",
        "        \"\"\"\n",
        "P, Q = program(compile(text_P)), program(compile(text_Q))\n",
        "C = concat(P, Q)\n",
        "print(f'Concatenation: \\n{C}')"
      ],
      "metadata": {
        "colab": {
          "base_uri": "https://localhost:8080/"
        },
        "id": "b8pVbesRXikf",
        "outputId": "ca494cd3-bda4-48bb-f66c-5dcd4c75d8d2"
      },
      "execution_count": 16,
      "outputs": [
        {
          "output_type": "stream",
          "name": "stdout",
          "text": [
            "Concatenation: \n",
            "  1: Z(0)\n",
            "  2: C(1, 2)\n",
            "  3: S(0)\n",
            "  4: J(3, 4, 5)\n",
            "  5: S(0)\n",
            "  6: J(3, 4, 0)\n",
            "  7: Z(0)\n",
            "  8: C(1, 0)\n"
          ]
        }
      ]
    },
    {
      "cell_type": "code",
      "source": [
        "# Pretty print\n",
        "COLUMN_WIDTH = 13\n",
        "SEPARATOR = '\\t'\n",
        "\n",
        "print(\"Programs Concatenation Comparison:\")\n",
        "print(\"-\" * 60)\n",
        "\n",
        "print(f\"{'Program P':13}{SEPARATOR}{'Program Q':13}{SEPARATOR}{'P concatenated with Q'}\")\n",
        "print(\"-\" * 60)\n",
        "\n",
        "for line in range(P.length):\n",
        "    print(f\"{str(P[line]):{COLUMN_WIDTH}}\"\n",
        "          f\"{SEPARATOR}{COLUMN_WIDTH * ' '}\"\n",
        "          f\"{SEPARATOR}{C[line]}\")\n",
        "\n",
        "for line in range(Q.length):\n",
        "    print(f\"{COLUMN_WIDTH * ' '}\"\n",
        "          f\"{SEPARATOR}{str(Q[line]):{COLUMN_WIDTH}}\"\n",
        "          f\"{SEPARATOR}{C[P.length + line]}\")\n",
        "\n",
        "print(\"-\" * 60)"
      ],
      "metadata": {
        "colab": {
          "base_uri": "https://localhost:8080/"
        },
        "id": "FxzKfPMtXk-f",
        "outputId": "3cc88e8b-1168-4b36-8817-daef8013f99f"
      },
      "execution_count": 17,
      "outputs": [
        {
          "output_type": "stream",
          "name": "stdout",
          "text": [
            "Programs Concatenation Comparison:\n",
            "------------------------------------------------------------\n",
            "Program P    \tProgram Q    \tP concatenated with Q\n",
            "------------------------------------------------------------\n",
            "Z(0)         \t             \tZ(0)\n",
            "C(1, 2)      \t             \tC(1, 2)\n",
            "S(0)         \t             \tS(0)\n",
            "J(3, 4, 0)   \t             \tJ(3, 4, 5)\n",
            "             \tS(0)         \tS(0)\n",
            "             \tJ(3, 4, 0)   \tJ(3, 4, 0)\n",
            "             \tZ(0)         \tZ(0)\n",
            "             \tC(1, 0)      \tC(1, 0)\n",
            "------------------------------------------------------------\n"
          ]
        }
      ]
    },
    {
      "cell_type": "markdown",
      "source": [
        "## Moving URM-program in Memory"
      ],
      "metadata": {
        "id": "Kr_yQyZ19BR9"
      }
    },
    {
      "cell_type": "code",
      "source": [
        "def move(P: program, off: int=0) -> program:\n",
        "    \"\"\"\n",
        "    The function returns the program that operates as P in the registers\n",
        "    R[off], R[off + 1], ...\n",
        "\n",
        "    Arguments\n",
        "        P: program\n",
        "        off: int {off >= 0}\n",
        "    Returns\n",
        "        program\n",
        "    \"\"\"\n",
        "    if not isinstance(P, program):\n",
        "        raise ValueError(\"move() error! Invalid program type\")\n",
        "    if not isinstance(off, int) or off < 0:\n",
        "        raise ValueError(\"move() error! Invalid offset\")\n",
        "\n",
        "    if P.length == 0 or off == 0:\n",
        "        return P\n",
        "\n",
        "    moved_instructions = []\n",
        "    for instruction in P:\n",
        "        # Handle different op\n",
        "        if instruction[0] == 0:  # Z()\n",
        "            moved_instructions.append(ins.Z(instruction[1] + off))\n",
        "        elif instruction[0] == 1:  # S()\n",
        "            moved_instructions.append(ins.S(instruction[1] + off))\n",
        "        elif instruction[0] == 2:  # C()\n",
        "            moved_instructions.append(ins.C(instruction[1] + off,\n",
        "                                         instruction[2] + off))\n",
        "        else:  # J()\n",
        "            moved_instructions.append(ins.J(instruction[1] + off,\n",
        "                                         instruction[2] + off,\n",
        "                                         instruction[3]))\n",
        "\n",
        "    return program(tuple(moved_instructions))"
      ],
      "metadata": {
        "id": "cMTdPqrK9HwV"
      },
      "execution_count": 18,
      "outputs": []
    },
    {
      "cell_type": "code",
      "source": [
        "# Make the move of an add() program to memory offset by 5\n",
        "text_add = \"\"\"\n",
        "    C(2, 0)\n",
        "    Z (2)\n",
        "\n",
        "    J(1, 2, 0)  check loop condition\n",
        "        S(0)\n",
        "        S(2)\n",
        "    J(0, 0, 3)  repeat loop\n",
        "\"\"\"\n",
        "add = program(compile(text_add))\n",
        "offset = 5\n",
        "add_moved = move(add, offset)\n",
        "\n",
        "# Pretty print\n",
        "COLUMN_WIDTH = 13\n",
        "SEPARATOR = '\\t'\n",
        "\n",
        "print(\"Original vs Moved Program (offset=5):\")\n",
        "print(\"-\" * 60)\n",
        "print(f\"{'Original':13}{SEPARATOR}{'Moved':13}{SEPARATOR}\")\n",
        "print(\"-\" * 60)\n",
        "\n",
        "for line in range(add.length):\n",
        "   print(f\"{str(add[line]):{COLUMN_WIDTH}}\"\n",
        "         f\"{SEPARATOR}{str(add_moved[line]):{COLUMN_WIDTH}}\")\n",
        "\n",
        "print(\"-\" * 60)"
      ],
      "metadata": {
        "colab": {
          "base_uri": "https://localhost:8080/"
        },
        "id": "zMt9kqJOXpmM",
        "outputId": "5266a985-214b-418d-f057-39751d00799b"
      },
      "execution_count": 19,
      "outputs": [
        {
          "output_type": "stream",
          "name": "stdout",
          "text": [
            "Original vs Moved Program (offset=5):\n",
            "------------------------------------------------------------\n",
            "Original     \tMoved        \t\n",
            "------------------------------------------------------------\n",
            "C(2, 0)      \tC(7, 5)      \n",
            "Z(2)         \tZ(7)         \n",
            "J(1, 2, 0)   \tJ(6, 7, 0)   \n",
            "S(0)         \tS(5)         \n",
            "S(2)         \tS(7)         \n",
            "J(0, 0, 3)   \tJ(5, 5, 3)   \n",
            "------------------------------------------------------------\n"
          ]
        }
      ]
    },
    {
      "cell_type": "code",
      "source": [
        "# Check moved program\n",
        "args = (2, 6)\n",
        "args_padding = tuple([0] * offset) + args\n",
        "# Add a C() to tail for copying result\n",
        "cp = program(tuple([ins.C(offset, 0)]))\n",
        "add_moved_c = concat(add_moved, cp)\n",
        "print(f\"{add_moved_c}\")\n",
        "ret = run(add_moved_c, *args_padding)\n",
        "# Check\n",
        "assert args[0] + args[1] == int(ret), \"Error, check the move function\"\n",
        "print(f\"\\n{args[0]} + {args[1]} = {ret}\")"
      ],
      "metadata": {
        "colab": {
          "base_uri": "https://localhost:8080/"
        },
        "id": "2QNC084mXrVH",
        "outputId": "18eee5de-c94a-4950-d87b-a3415306b891"
      },
      "execution_count": 20,
      "outputs": [
        {
          "output_type": "stream",
          "name": "stdout",
          "text": [
            "  1: C(7, 5)\n",
            "  2: Z(7)\n",
            "  3: J(6, 7, 7)\n",
            "  4: S(5)\n",
            "  5: S(7)\n",
            "  6: J(5, 5, 3)\n",
            "  7: C(5, 0)\n",
            "\n",
            "2 + 6 = 8\n"
          ]
        }
      ]
    }
  ]
}